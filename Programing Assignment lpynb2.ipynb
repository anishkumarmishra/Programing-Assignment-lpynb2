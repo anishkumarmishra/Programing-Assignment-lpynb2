{
  "nbformat": 4,
  "nbformat_minor": 0,
  "metadata": {
    "colab": {
      "provenance": []
    },
    "kernelspec": {
      "name": "python3",
      "display_name": "Python 3"
    },
    "language_info": {
      "name": "python"
    }
  },
  "cells": [
    {
      "cell_type": "markdown",
      "source": [
        "###1. Write a Python program to convert kilometers to miles?"
      ],
      "metadata": {
        "id": "KdFHWuSDOTfj"
      }
    },
    {
      "cell_type": "code",
      "source": [
        "def kmtom():\n",
        "  km=int(input('Enter the kM: '))\n",
        "  print(\"{} is Equal to {} miles\".format(km,km*12))\n",
        "kmtom()"
      ],
      "metadata": {
        "colab": {
          "base_uri": "https://localhost:8080/"
        },
        "id": "g3wiyKILOWSQ",
        "outputId": "ad9635c4-4bc6-46b1-830f-4f280d434a7f"
      },
      "execution_count": 5,
      "outputs": [
        {
          "output_type": "stream",
          "name": "stdout",
          "text": [
            "Enter the kM: 1\n",
            "1 is Equal to 12 miles\n"
          ]
        }
      ]
    },
    {
      "cell_type": "markdown",
      "source": [
        "###2. Write a Python program to convert Celsius to Fahrenheit?"
      ],
      "metadata": {
        "id": "7c7ZfsFePiKJ"
      }
    },
    {
      "cell_type": "code",
      "source": [
        "def cf():\n",
        "  celsius = int(input(\"Enter the Celsius: \"))\n",
        "  print(\"{}° Celsius is Equal to {}° fahrenheit\".format(celsius,celsius*(9/5)+32))\n",
        "cf()"
      ],
      "metadata": {
        "colab": {
          "base_uri": "https://localhost:8080/"
        },
        "id": "W0rDh_nQPqpR",
        "outputId": "799a7fff-3095-474a-8c0d-b3a2fa468ea0"
      },
      "execution_count": 7,
      "outputs": [
        {
          "output_type": "stream",
          "name": "stdout",
          "text": [
            "Enter the Celsius: 1\n",
            "1° Celsius is Equal to 33.8° fahrenheit\n"
          ]
        }
      ]
    },
    {
      "cell_type": "markdown",
      "source": [
        "###3. Write a Python program to display calendar?"
      ],
      "metadata": {
        "id": "R9vpNTBgU3Es"
      }
    },
    {
      "cell_type": "code",
      "source": [
        "from calendar import c\n",
        "def acalendar():\n",
        "  Year =int(input(\"Enter the Year: \"))\n",
        "  print(calendar.calendar(Year))\n",
        "acalendar()"
      ],
      "metadata": {
        "colab": {
          "base_uri": "https://localhost:8080/"
        },
        "id": "ypvY1X1HU-1Q",
        "outputId": "ed4c54e7-5a41-4bc6-8249-c082f99e568c"
      },
      "execution_count": 30,
      "outputs": [
        {
          "output_type": "stream",
          "name": "stdout",
          "text": [
            "Enter the Year: 2024\n",
            "                                  2024\n",
            "\n",
            "      January                   February                   March\n",
            "Mo Tu We Th Fr Sa Su      Mo Tu We Th Fr Sa Su      Mo Tu We Th Fr Sa Su\n",
            " 1  2  3  4  5  6  7                1  2  3  4                   1  2  3\n",
            " 8  9 10 11 12 13 14       5  6  7  8  9 10 11       4  5  6  7  8  9 10\n",
            "15 16 17 18 19 20 21      12 13 14 15 16 17 18      11 12 13 14 15 16 17\n",
            "22 23 24 25 26 27 28      19 20 21 22 23 24 25      18 19 20 21 22 23 24\n",
            "29 30 31                  26 27 28 29               25 26 27 28 29 30 31\n",
            "\n",
            "       April                      May                       June\n",
            "Mo Tu We Th Fr Sa Su      Mo Tu We Th Fr Sa Su      Mo Tu We Th Fr Sa Su\n",
            " 1  2  3  4  5  6  7             1  2  3  4  5                      1  2\n",
            " 8  9 10 11 12 13 14       6  7  8  9 10 11 12       3  4  5  6  7  8  9\n",
            "15 16 17 18 19 20 21      13 14 15 16 17 18 19      10 11 12 13 14 15 16\n",
            "22 23 24 25 26 27 28      20 21 22 23 24 25 26      17 18 19 20 21 22 23\n",
            "29 30                     27 28 29 30 31            24 25 26 27 28 29 30\n",
            "\n",
            "        July                     August                  September\n",
            "Mo Tu We Th Fr Sa Su      Mo Tu We Th Fr Sa Su      Mo Tu We Th Fr Sa Su\n",
            " 1  2  3  4  5  6  7                1  2  3  4                         1\n",
            " 8  9 10 11 12 13 14       5  6  7  8  9 10 11       2  3  4  5  6  7  8\n",
            "15 16 17 18 19 20 21      12 13 14 15 16 17 18       9 10 11 12 13 14 15\n",
            "22 23 24 25 26 27 28      19 20 21 22 23 24 25      16 17 18 19 20 21 22\n",
            "29 30 31                  26 27 28 29 30 31         23 24 25 26 27 28 29\n",
            "                                                    30\n",
            "\n",
            "      October                   November                  December\n",
            "Mo Tu We Th Fr Sa Su      Mo Tu We Th Fr Sa Su      Mo Tu We Th Fr Sa Su\n",
            "    1  2  3  4  5  6                   1  2  3                         1\n",
            " 7  8  9 10 11 12 13       4  5  6  7  8  9 10       2  3  4  5  6  7  8\n",
            "14 15 16 17 18 19 20      11 12 13 14 15 16 17       9 10 11 12 13 14 15\n",
            "21 22 23 24 25 26 27      18 19 20 21 22 23 24      16 17 18 19 20 21 22\n",
            "28 29 30 31               25 26 27 28 29 30         23 24 25 26 27 28 29\n",
            "                                                    30 31\n",
            "\n"
          ]
        }
      ]
    },
    {
      "cell_type": "markdown",
      "source": [
        "###4. Write a Python program to solve quadratic equation?"
      ],
      "metadata": {
        "id": "oY9I3INxaFmk"
      }
    },
    {
      "cell_type": "code",
      "source": [
        "import cmath\n",
        "\n",
        "a = int(input(\"Enter the A value: \"))\n",
        "b = int(input(\"Enter the B value: \"))\n",
        "c = int(input(\"Enter the C value: \"))\n",
        "\n",
        "discriminant = b*b-4*a*c\n",
        "\n",
        "root1 = (-b-cmath.sqrt(discriminant))/(2*a)\n",
        "root2 = (-b+cmath.sqrt(discriminant))/(2*a)\n",
        "\n",
        "print(\"Ther root are\", root1 ,\"and\", root2)"
      ],
      "metadata": {
        "colab": {
          "base_uri": "https://localhost:8080/"
        },
        "id": "OALUFVY2eW_Y",
        "outputId": "423ae72e-e494-4f23-dcd5-f925b5457c12"
      },
      "execution_count": 38,
      "outputs": [
        {
          "output_type": "stream",
          "name": "stdout",
          "text": [
            "Enter the A value: 2\n",
            "Enter the B value: 3\n",
            "Enter the C value: 6\n",
            "Ther root are (-0.75-1.5612494995995996j) and (-0.75+1.5612494995995996j)\n"
          ]
        }
      ]
    },
    {
      "cell_type": "markdown",
      "source": [
        "###5. Write a Python program to swap two variables without temp variable?"
      ],
      "metadata": {
        "id": "U1aGodSfilRt"
      }
    },
    {
      "cell_type": "code",
      "source": [
        "num_1 = int(input('Enter first number: '))\n",
        "num_2 = int(input('Enter second number: '))\n",
        "print('Before Swapping',num_1,num_2)\n",
        "num_1 = num_1+num_2\n",
        "num_2 = num_1-num_2\n",
        "num_1 = num_1-num_2\n",
        "print('before Swapping',num_1,num_2)"
      ],
      "metadata": {
        "colab": {
          "base_uri": "https://localhost:8080/"
        },
        "id": "mA2YsvH9inEO",
        "outputId": "16d041c7-fba8-40a3-c9ca-f9c8075ec99d"
      },
      "execution_count": 47,
      "outputs": [
        {
          "output_type": "stream",
          "name": "stdout",
          "text": [
            "Enter first number: 1\n",
            "Enter second number: 2\n",
            "Before Swapping 1 2\n",
            "before Swapping 2 1\n"
          ]
        }
      ]
    }
  ]
}